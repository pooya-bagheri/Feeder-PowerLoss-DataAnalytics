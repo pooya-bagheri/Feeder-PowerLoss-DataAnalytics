{
 "cells": [
  {
   "cell_type": "markdown",
   "metadata": {},
   "source": [
    "hello\n",
    "os library only imported to find the current working folder to relocate the DB file.\n",
    "SQLalchemy is imported to make SQL queries from the database containing the simulation results.\n",
    "We are also importing Pandas to read the result of SQL queries into Dataframes for further analysis."
   ]
  },
  {
   "cell_type": "code",
   "execution_count": null,
   "metadata": {},
   "outputs": [],
   "source": [
    "import os \n",
    "import pandas as pd\n",
    "from sqlalchemy import create_engine"
   ]
  },
  {
   "cell_type": "markdown",
   "metadata": {},
   "source": [
    "The results database that we are going to read and analyze data from is created by the other project in my account: [Feeder Power Loss Simulation](https://github.com/pooya-bagheri/Feeder-PowerLoss-Simulation)"
   ]
  },
  {
   "cell_type": "code",
   "execution_count": 3,
   "metadata": {},
   "outputs": [],
   "source": [
    "DBfilePath=os.path.abspath('')+'//'+'SimResultsIEEE123NodesCase2.db'\n",
    "DB = create_engine('sqlite:///'+DBfilePath, echo=False)   "
   ]
  },
  {
   "cell_type": "markdown",
   "metadata": {},
   "source": [
    "Database includes data for 30 simulated days. We don't want to explode the memory.So, Let's just focus on the first day read first day's Ploss data and voltages for one node:"
   ]
  },
  {
   "cell_type": "code",
   "execution_count": 16,
   "metadata": {},
   "outputs": [
    {
     "data": {
      "text/html": [
       "<div>\n",
       "<style scoped>\n",
       "    .dataframe tbody tr th:only-of-type {\n",
       "        vertical-align: middle;\n",
       "    }\n",
       "\n",
       "    .dataframe tbody tr th {\n",
       "        vertical-align: top;\n",
       "    }\n",
       "\n",
       "    .dataframe thead th {\n",
       "        text-align: right;\n",
       "    }\n",
       "</style>\n",
       "<table border=\"1\" class=\"dataframe\">\n",
       "  <thead>\n",
       "    <tr style=\"text-align: right;\">\n",
       "      <th></th>\n",
       "      <th>InstantID</th>\n",
       "      <th>Ploss</th>\n",
       "    </tr>\n",
       "  </thead>\n",
       "  <tbody>\n",
       "    <tr>\n",
       "      <th>0</th>\n",
       "      <td>1</td>\n",
       "      <td>25.598380</td>\n",
       "    </tr>\n",
       "    <tr>\n",
       "      <th>1</th>\n",
       "      <td>2</td>\n",
       "      <td>25.351119</td>\n",
       "    </tr>\n",
       "    <tr>\n",
       "      <th>2</th>\n",
       "      <td>3</td>\n",
       "      <td>25.104456</td>\n",
       "    </tr>\n",
       "    <tr>\n",
       "      <th>3</th>\n",
       "      <td>4</td>\n",
       "      <td>24.859135</td>\n",
       "    </tr>\n",
       "    <tr>\n",
       "      <th>4</th>\n",
       "      <td>5</td>\n",
       "      <td>24.615373</td>\n",
       "    </tr>\n",
       "  </tbody>\n",
       "</table>\n",
       "</div>"
      ],
      "text/plain": [
       "   InstantID      Ploss\n",
       "0          1  25.598380\n",
       "1          2  25.351119\n",
       "2          3  25.104456\n",
       "3          4  24.859135\n",
       "4          5  24.615373"
      ]
     },
     "execution_count": 16,
     "metadata": {},
     "output_type": "execute_result"
    }
   ],
   "source": [
    "Ploss=pd.read_sql_query('Select * from Losses',con=DB)\n",
    "Ploss.head()"
   ]
  },
  {
   "cell_type": "code",
   "execution_count": 9,
   "metadata": {},
   "outputs": [
    {
     "name": "stdout",
     "output_type": "stream",
     "text": [
      "<class 'pandas.core.frame.DataFrame'>\n",
      "RangeIndex: 1440 entries, 0 to 1439\n",
      "Data columns (total 2 columns):\n",
      "InstantID    1440 non-null int64\n",
      "Ploss        1440 non-null float64\n",
      "dtypes: float64(1), int64(1)\n",
      "memory usage: 22.6 KB\n"
     ]
    }
   ],
   "source": [
    "Ploss=pd.read_sql_query('''\n",
    "select Instants.InstantID,Losses.Ploss\n",
    "from Instants join Losses on Instants.InstantID=Losses.InstantID\n",
    "where Instants.Day==1''',con=DB)\n",
    "Ploss.head()\n",
    "Ploss.info()"
   ]
  },
  {
   "cell_type": "code",
   "execution_count": 17,
   "metadata": {},
   "outputs": [
    {
     "data": {
      "text/html": [
       "<div>\n",
       "<style scoped>\n",
       "    .dataframe tbody tr th:only-of-type {\n",
       "        vertical-align: middle;\n",
       "    }\n",
       "\n",
       "    .dataframe tbody tr th {\n",
       "        vertical-align: top;\n",
       "    }\n",
       "\n",
       "    .dataframe thead th {\n",
       "        text-align: right;\n",
       "    }\n",
       "</style>\n",
       "<table border=\"1\" class=\"dataframe\">\n",
       "  <thead>\n",
       "    <tr style=\"text-align: right;\">\n",
       "      <th></th>\n",
       "      <th>InstantID</th>\n",
       "      <th>NodeID</th>\n",
       "      <th>Vmag</th>\n",
       "    </tr>\n",
       "  </thead>\n",
       "  <tbody>\n",
       "    <tr>\n",
       "      <th>0</th>\n",
       "      <td>1</td>\n",
       "      <td>1</td>\n",
       "      <td>1.0000</td>\n",
       "    </tr>\n",
       "    <tr>\n",
       "      <th>1</th>\n",
       "      <td>1</td>\n",
       "      <td>2</td>\n",
       "      <td>1.0125</td>\n",
       "    </tr>\n",
       "    <tr>\n",
       "      <th>2</th>\n",
       "      <td>1</td>\n",
       "      <td>3</td>\n",
       "      <td>1.0125</td>\n",
       "    </tr>\n",
       "    <tr>\n",
       "      <th>3</th>\n",
       "      <td>1</td>\n",
       "      <td>4</td>\n",
       "      <td>1.0069</td>\n",
       "    </tr>\n",
       "    <tr>\n",
       "      <th>4</th>\n",
       "      <td>1</td>\n",
       "      <td>5</td>\n",
       "      <td>1.0132</td>\n",
       "    </tr>\n",
       "  </tbody>\n",
       "</table>\n",
       "</div>"
      ],
      "text/plain": [
       "   InstantID  NodeID    Vmag\n",
       "0          1       1  1.0000\n",
       "1          1       2  1.0125\n",
       "2          1       3  1.0125\n",
       "3          1       4  1.0069\n",
       "4          1       5  1.0132"
      ]
     },
     "execution_count": 17,
     "metadata": {},
     "output_type": "execute_result"
    }
   ],
   "source": [
    "Voltages=pd.read_sql_query('''\n",
    "select Instants.InstantID,Voltages.NodeID,Voltages.Vmag\n",
    "from Instants join Voltages on Instants.InstantID=Voltages.InstantID\n",
    "where Instants.Day==1''',con=DB)\n",
    "Voltages.head()"
   ]
  },
  {
   "cell_type": "code",
   "execution_count": 9,
   "metadata": {},
   "outputs": [
    {
     "name": "stdout",
     "output_type": "stream",
     "text": [
      "(44640, 2)\n"
     ]
    }
   ],
   "source": [
    "print(Ploss.shape)"
   ]
  },
  {
   "cell_type": "code",
   "execution_count": 18,
   "metadata": {},
   "outputs": [
    {
     "name": "stdout",
     "output_type": "stream",
     "text": [
      "        InstantID  NodeID     Vmag\n",
      "0               1       1  1.00000\n",
      "1               1       2  1.01250\n",
      "2               1       3  1.01250\n",
      "3               1       4  1.00690\n",
      "4               1       5  1.01320\n",
      "5               1       6  1.00810\n",
      "6               1       7  1.00280\n",
      "7               1       8  1.00760\n",
      "8               1       9  1.00730\n",
      "9               1      10  1.00680\n",
      "10              1      11  1.00020\n",
      "11              1      12  1.01400\n",
      "12              1      13  0.99940\n",
      "13              1      14  0.99676\n",
      "14              1      15  1.00560\n",
      "15              1      16  1.00430\n",
      "16              1      17  1.00370\n",
      "17              1      18  0.99224\n",
      "18              1      19  1.00380\n",
      "19              1      20  1.00410\n",
      "20              1      21  1.00350\n",
      "21              1      22  1.00270\n",
      "22              1      23  1.00340\n",
      "23              1      24  0.99163\n",
      "24              1      25  0.99187\n",
      "25              1      26  0.99153\n",
      "26              1      27  1.01240\n",
      "27              1      28  0.99157\n",
      "28              1      29  0.99811\n",
      "29              1      30  0.99105\n",
      "...           ...     ...      ...\n",
      "400290       1440     249  1.03000\n",
      "400291       1440     250  1.03130\n",
      "400292       1440     251  1.03070\n",
      "400293       1440     252  1.03160\n",
      "400294       1440     253  1.03150\n",
      "400295       1440     254  1.03320\n",
      "400296       1440     255  1.03380\n",
      "400297       1440     256  1.03470\n",
      "400298       1440     257  1.03560\n",
      "400299       1440     258  1.03110\n",
      "400300       1440     259  1.03150\n",
      "400301       1440     260  1.03180\n",
      "400302       1440     261  1.03180\n",
      "400303       1440     262  1.03200\n",
      "400304       1440     263  1.02780\n",
      "400305       1440     264  1.02760\n",
      "400306       1440     265  1.02730\n",
      "400307       1440     266  1.02730\n",
      "400308       1440     267  1.02790\n",
      "400309       1440     268  1.02770\n",
      "400310       1440     269  1.02790\n",
      "400311       1440     270  1.02780\n",
      "400312       1440     271  1.02780\n",
      "400313       1440     272  1.00720\n",
      "400314       1440     273  1.01050\n",
      "400315       1440     274  1.02810\n",
      "400316       1440     275  1.00920\n",
      "400317       1440     276  1.00920\n",
      "400318       1440     277  1.00640\n",
      "400319       1440     278  1.01480\n",
      "\n",
      "[400320 rows x 3 columns]\n"
     ]
    }
   ],
   "source": [
    "print(Voltages)"
   ]
  },
  {
   "cell_type": "code",
   "execution_count": null,
   "metadata": {},
   "outputs": [],
   "source": []
  }
 ],
 "metadata": {
  "kernelspec": {
   "display_name": "Python 3",
   "language": "python",
   "name": "python3"
  },
  "language_info": {
   "codemirror_mode": {
    "name": "ipython",
    "version": 3
   },
   "file_extension": ".py",
   "mimetype": "text/x-python",
   "name": "python",
   "nbconvert_exporter": "python",
   "pygments_lexer": "ipython3",
   "version": "3.7.1"
  }
 },
 "nbformat": 4,
 "nbformat_minor": 2
}
