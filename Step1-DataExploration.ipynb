{
 "cells": [
  {
   "cell_type": "markdown",
   "metadata": {},
   "source": [
    "# 1. Loading Data\n",
    "os library only imported to find the current working folder to relocate the DB file.\n",
    "SQLalchemy is imported to make SQL queries from the database containing the simulation results.\n",
    "We are also importing Pandas to read the result of SQL queries into Dataframes for further analysis."
   ]
  },
  {
   "cell_type": "code",
   "execution_count": 1,
   "metadata": {},
   "outputs": [],
   "source": [
    "import os \n",
    "import pandas as pd\n",
    "from sqlalchemy import create_engine"
   ]
  },
  {
   "cell_type": "markdown",
   "metadata": {},
   "source": [
    "The results database that we are going to read and analyze data from is created by the other project in my account: [Feeder Power Loss Simulation](https://github.com/pooya-bagheri/Feeder-PowerLoss-Simulation)"
   ]
  },
  {
   "cell_type": "code",
   "execution_count": 2,
   "metadata": {},
   "outputs": [],
   "source": [
    "DBfilePath=os.path.abspath('')+'//'+'SimResultsIEEE123NodesCase2.db'\n",
    "DB = create_engine('sqlite:///'+DBfilePath, echo=False)   "
   ]
  },
  {
   "cell_type": "markdown",
   "metadata": {},
   "source": [
    "Database includes data for 30 simulated days. We don't want to explode the memory.So, Let's just focus on the first day read first day's Ploss data and voltages for one node:"
   ]
  },
  {
   "cell_type": "code",
   "execution_count": 3,
   "metadata": {},
   "outputs": [
    {
     "data": {
      "text/html": [
       "<div>\n",
       "<style scoped>\n",
       "    .dataframe tbody tr th:only-of-type {\n",
       "        vertical-align: middle;\n",
       "    }\n",
       "\n",
       "    .dataframe tbody tr th {\n",
       "        vertical-align: top;\n",
       "    }\n",
       "\n",
       "    .dataframe thead th {\n",
       "        text-align: right;\n",
       "    }\n",
       "</style>\n",
       "<table border=\"1\" class=\"dataframe\">\n",
       "  <thead>\n",
       "    <tr style=\"text-align: right;\">\n",
       "      <th></th>\n",
       "      <th>InstantID</th>\n",
       "      <th>Ploss</th>\n",
       "    </tr>\n",
       "  </thead>\n",
       "  <tbody>\n",
       "    <tr>\n",
       "      <th>0</th>\n",
       "      <td>1</td>\n",
       "      <td>25.598380</td>\n",
       "    </tr>\n",
       "    <tr>\n",
       "      <th>1</th>\n",
       "      <td>2</td>\n",
       "      <td>25.351119</td>\n",
       "    </tr>\n",
       "    <tr>\n",
       "      <th>2</th>\n",
       "      <td>3</td>\n",
       "      <td>25.104456</td>\n",
       "    </tr>\n",
       "    <tr>\n",
       "      <th>3</th>\n",
       "      <td>4</td>\n",
       "      <td>24.859135</td>\n",
       "    </tr>\n",
       "    <tr>\n",
       "      <th>4</th>\n",
       "      <td>5</td>\n",
       "      <td>24.615373</td>\n",
       "    </tr>\n",
       "  </tbody>\n",
       "</table>\n",
       "</div>"
      ],
      "text/plain": [
       "   InstantID      Ploss\n",
       "0          1  25.598380\n",
       "1          2  25.351119\n",
       "2          3  25.104456\n",
       "3          4  24.859135\n",
       "4          5  24.615373"
      ]
     },
     "execution_count": 3,
     "metadata": {},
     "output_type": "execute_result"
    }
   ],
   "source": [
    "Ploss=pd.read_sql_query('Select * from Losses',con=DB)\n",
    "Ploss.head()"
   ]
  },
  {
   "cell_type": "code",
   "execution_count": 4,
   "metadata": {},
   "outputs": [
    {
     "name": "stdout",
     "output_type": "stream",
     "text": [
      "<class 'pandas.core.frame.DataFrame'>\n",
      "RangeIndex: 1440 entries, 0 to 1439\n",
      "Data columns (total 2 columns):\n",
      "InstantID    1440 non-null int64\n",
      "Ploss        1440 non-null float64\n",
      "dtypes: float64(1), int64(1)\n",
      "memory usage: 22.6 KB\n"
     ]
    }
   ],
   "source": [
    "Ploss=pd.read_sql_query('''\n",
    "select Instants.InstantID,Losses.Ploss\n",
    "from Instants join Losses on Instants.InstantID=Losses.InstantID\n",
    "where Instants.Day==1''',con=DB)\n",
    "Ploss.head()\n",
    "Ploss.info()"
   ]
  },
  {
   "cell_type": "code",
   "execution_count": 5,
   "metadata": {},
   "outputs": [
    {
     "data": {
      "text/html": [
       "<div>\n",
       "<style scoped>\n",
       "    .dataframe tbody tr th:only-of-type {\n",
       "        vertical-align: middle;\n",
       "    }\n",
       "\n",
       "    .dataframe tbody tr th {\n",
       "        vertical-align: top;\n",
       "    }\n",
       "\n",
       "    .dataframe thead th {\n",
       "        text-align: right;\n",
       "    }\n",
       "</style>\n",
       "<table border=\"1\" class=\"dataframe\">\n",
       "  <thead>\n",
       "    <tr style=\"text-align: right;\">\n",
       "      <th></th>\n",
       "      <th>InstantID</th>\n",
       "      <th>NodeID</th>\n",
       "      <th>Vmag</th>\n",
       "    </tr>\n",
       "  </thead>\n",
       "  <tbody>\n",
       "    <tr>\n",
       "      <th>0</th>\n",
       "      <td>1</td>\n",
       "      <td>1</td>\n",
       "      <td>1.0000</td>\n",
       "    </tr>\n",
       "    <tr>\n",
       "      <th>1</th>\n",
       "      <td>1</td>\n",
       "      <td>2</td>\n",
       "      <td>1.0125</td>\n",
       "    </tr>\n",
       "    <tr>\n",
       "      <th>2</th>\n",
       "      <td>1</td>\n",
       "      <td>3</td>\n",
       "      <td>1.0125</td>\n",
       "    </tr>\n",
       "    <tr>\n",
       "      <th>3</th>\n",
       "      <td>1</td>\n",
       "      <td>4</td>\n",
       "      <td>1.0069</td>\n",
       "    </tr>\n",
       "    <tr>\n",
       "      <th>4</th>\n",
       "      <td>1</td>\n",
       "      <td>5</td>\n",
       "      <td>1.0132</td>\n",
       "    </tr>\n",
       "  </tbody>\n",
       "</table>\n",
       "</div>"
      ],
      "text/plain": [
       "   InstantID  NodeID    Vmag\n",
       "0          1       1  1.0000\n",
       "1          1       2  1.0125\n",
       "2          1       3  1.0125\n",
       "3          1       4  1.0069\n",
       "4          1       5  1.0132"
      ]
     },
     "execution_count": 5,
     "metadata": {},
     "output_type": "execute_result"
    }
   ],
   "source": [
    "RawVoltages=pd.read_sql_query('''\n",
    "select Instants.InstantID,Voltages.NodeID,Voltages.Vmag\n",
    "from Instants join Voltages on Instants.InstantID=Voltages.InstantID\n",
    "where Instants.Day==1''',con=DB)\n",
    "RawVoltages.head()"
   ]
  },
  {
   "cell_type": "markdown",
   "metadata": {},
   "source": [
    "We can see that voltages of all node are present here. Let's group voltage measurements to get the average by every node."
   ]
  },
  {
   "cell_type": "code",
   "execution_count": 6,
   "metadata": {},
   "outputs": [
    {
     "data": {
      "text/html": [
       "<div>\n",
       "<style scoped>\n",
       "    .dataframe tbody tr th:only-of-type {\n",
       "        vertical-align: middle;\n",
       "    }\n",
       "\n",
       "    .dataframe tbody tr th {\n",
       "        vertical-align: top;\n",
       "    }\n",
       "\n",
       "    .dataframe thead th {\n",
       "        text-align: right;\n",
       "    }\n",
       "</style>\n",
       "<table border=\"1\" class=\"dataframe\">\n",
       "  <thead>\n",
       "    <tr style=\"text-align: right;\">\n",
       "      <th></th>\n",
       "      <th>InstantID</th>\n",
       "      <th>Vmean</th>\n",
       "    </tr>\n",
       "  </thead>\n",
       "  <tbody>\n",
       "    <tr>\n",
       "      <th>0</th>\n",
       "      <td>1</td>\n",
       "      <td>1.013455</td>\n",
       "    </tr>\n",
       "    <tr>\n",
       "      <th>1</th>\n",
       "      <td>2</td>\n",
       "      <td>1.013608</td>\n",
       "    </tr>\n",
       "    <tr>\n",
       "      <th>2</th>\n",
       "      <td>3</td>\n",
       "      <td>1.013768</td>\n",
       "    </tr>\n",
       "    <tr>\n",
       "      <th>3</th>\n",
       "      <td>4</td>\n",
       "      <td>1.013920</td>\n",
       "    </tr>\n",
       "    <tr>\n",
       "      <th>4</th>\n",
       "      <td>5</td>\n",
       "      <td>1.014074</td>\n",
       "    </tr>\n",
       "  </tbody>\n",
       "</table>\n",
       "</div>"
      ],
      "text/plain": [
       "   InstantID     Vmean\n",
       "0          1  1.013455\n",
       "1          2  1.013608\n",
       "2          3  1.013768\n",
       "3          4  1.013920\n",
       "4          5  1.014074"
      ]
     },
     "execution_count": 6,
     "metadata": {},
     "output_type": "execute_result"
    }
   ],
   "source": [
    "VoltagesMean=pd.read_sql_query('''\n",
    "select Instants.InstantID,avg(Voltages.Vmag) as Vmean\n",
    "from Instants join Voltages on Instants.InstantID=Voltages.InstantID\n",
    "where Instants.Day==1\n",
    "group by Instants.InstantID''',con=DB)\n",
    "VoltagesMean.head()"
   ]
  },
  {
   "cell_type": "markdown",
   "metadata": {},
   "source": [
    "Let's have a look at what we have collected so far. We import from matplotlib for this purpose:"
   ]
  },
  {
   "cell_type": "code",
   "execution_count": 23,
   "metadata": {},
   "outputs": [
    {
     "data": {
      "image/png": "[encoded data removed]",
      "text/plain": [
       "<Figure size 720x360 with 1 Axes>"
      ]
     },
     "metadata": {
      "needs_background": "light"
     },
     "output_type": "display_data"
    }
   ],
   "source": [
    "from matplotlib import pyplot as plt\n",
    "plt.rcParams['figure.figsize'] = [10, 5] #making the plots a bit larger than default size\n",
    "Time=VoltagesMean['InstantID']/max(VoltagesMean['InstantID'])\n",
    "Vmean=VoltagesMean['Vmean']\n",
    "plt.plot(Time,Vmean)\n",
    "plt.xlabel('Time (per day)')\n",
    "plt.ylabel('Voltage Mean across Nodes (pu)')\n",
    "plt.show()"
   ]
  },
  {
   "cell_type": "code",
   "execution_count": 8,
   "metadata": {},
   "outputs": [
    {
     "data": {
      "image/png": "[encoded data removed]",
      "text/plain": [
       "<Figure size 432x288 with 1 Axes>"
      ]
     },
     "metadata": {
      "needs_background": "light"
     },
     "output_type": "display_data"
    }
   ],
   "source": [
    "plt.plot(Time,Ploss['Ploss'])\n",
    "plt.xlabel('Time (per day)')\n",
    "plt.ylabel('Power Loss (kW)')\n",
    "plt.show()"
   ]
  },
  {
   "cell_type": "markdown",
   "metadata": {},
   "source": [
    "# 2. Relationship between Voltages and Power Loss\n",
    "We are interested to learn about relationship of voltages and losses. As we can see in the last two graphs, there is no observable correlation between mean of voltage and losses, we need to look further. Let's do a pivot opearation in pandas to get all node voltages for each instant:"
   ]
  },
  {
   "cell_type": "code",
   "execution_count": 9,
   "metadata": {},
   "outputs": [
    {
     "data": {
      "text/html": [
       "<div>\n",
       "<style scoped>\n",
       "    .dataframe tbody tr th:only-of-type {\n",
       "        vertical-align: middle;\n",
       "    }\n",
       "\n",
       "    .dataframe tbody tr th {\n",
       "        vertical-align: top;\n",
       "    }\n",
       "\n",
       "    .dataframe thead th {\n",
       "        text-align: right;\n",
       "    }\n",
       "</style>\n",
       "<table border=\"1\" class=\"dataframe\">\n",
       "  <thead>\n",
       "    <tr style=\"text-align: right;\">\n",
       "      <th>NodeID</th>\n",
       "      <th>1</th>\n",
       "      <th>2</th>\n",
       "      <th>3</th>\n",
       "      <th>4</th>\n",
       "      <th>5</th>\n",
       "      <th>6</th>\n",
       "      <th>7</th>\n",
       "      <th>8</th>\n",
       "      <th>9</th>\n",
       "      <th>10</th>\n",
       "      <th>...</th>\n",
       "      <th>269</th>\n",
       "      <th>270</th>\n",
       "      <th>271</th>\n",
       "      <th>272</th>\n",
       "      <th>273</th>\n",
       "      <th>274</th>\n",
       "      <th>275</th>\n",
       "      <th>276</th>\n",
       "      <th>277</th>\n",
       "      <th>278</th>\n",
       "    </tr>\n",
       "    <tr>\n",
       "      <th>InstantID</th>\n",
       "      <th></th>\n",
       "      <th></th>\n",
       "      <th></th>\n",
       "      <th></th>\n",
       "      <th></th>\n",
       "      <th></th>\n",
       "      <th></th>\n",
       "      <th></th>\n",
       "      <th></th>\n",
       "      <th></th>\n",
       "      <th></th>\n",
       "      <th></th>\n",
       "      <th></th>\n",
       "      <th></th>\n",
       "      <th></th>\n",
       "      <th></th>\n",
       "      <th></th>\n",
       "      <th></th>\n",
       "      <th></th>\n",
       "      <th></th>\n",
       "      <th></th>\n",
       "    </tr>\n",
       "  </thead>\n",
       "  <tbody>\n",
       "    <tr>\n",
       "      <th>1</th>\n",
       "      <td>1.0</td>\n",
       "      <td>1.0125</td>\n",
       "      <td>1.0125</td>\n",
       "      <td>1.0069</td>\n",
       "      <td>1.0132</td>\n",
       "      <td>1.0081</td>\n",
       "      <td>1.0028</td>\n",
       "      <td>1.0076</td>\n",
       "      <td>1.0073</td>\n",
       "      <td>1.0068</td>\n",
       "      <td>...</td>\n",
       "      <td>1.0282</td>\n",
       "      <td>1.0282</td>\n",
       "      <td>1.0282</td>\n",
       "      <td>1.0011</td>\n",
       "      <td>1.0044</td>\n",
       "      <td>1.0284</td>\n",
       "      <td>1.0033</td>\n",
       "      <td>1.0033</td>\n",
       "      <td>1.0004</td>\n",
       "      <td>1.0088</td>\n",
       "    </tr>\n",
       "    <tr>\n",
       "      <th>2</th>\n",
       "      <td>1.0</td>\n",
       "      <td>1.0125</td>\n",
       "      <td>1.0125</td>\n",
       "      <td>1.0070</td>\n",
       "      <td>1.0132</td>\n",
       "      <td>1.0081</td>\n",
       "      <td>1.0029</td>\n",
       "      <td>1.0077</td>\n",
       "      <td>1.0073</td>\n",
       "      <td>1.0069</td>\n",
       "      <td>...</td>\n",
       "      <td>1.0284</td>\n",
       "      <td>1.0284</td>\n",
       "      <td>1.0284</td>\n",
       "      <td>1.0012</td>\n",
       "      <td>1.0045</td>\n",
       "      <td>1.0286</td>\n",
       "      <td>1.0035</td>\n",
       "      <td>1.0035</td>\n",
       "      <td>1.0005</td>\n",
       "      <td>1.0090</td>\n",
       "    </tr>\n",
       "    <tr>\n",
       "      <th>3</th>\n",
       "      <td>1.0</td>\n",
       "      <td>1.0125</td>\n",
       "      <td>1.0125</td>\n",
       "      <td>1.0070</td>\n",
       "      <td>1.0132</td>\n",
       "      <td>1.0081</td>\n",
       "      <td>1.0030</td>\n",
       "      <td>1.0077</td>\n",
       "      <td>1.0074</td>\n",
       "      <td>1.0069</td>\n",
       "      <td>...</td>\n",
       "      <td>1.0286</td>\n",
       "      <td>1.0286</td>\n",
       "      <td>1.0286</td>\n",
       "      <td>1.0013</td>\n",
       "      <td>1.0046</td>\n",
       "      <td>1.0288</td>\n",
       "      <td>1.0037</td>\n",
       "      <td>1.0037</td>\n",
       "      <td>1.0006</td>\n",
       "      <td>1.0092</td>\n",
       "    </tr>\n",
       "    <tr>\n",
       "      <th>4</th>\n",
       "      <td>1.0</td>\n",
       "      <td>1.0125</td>\n",
       "      <td>1.0125</td>\n",
       "      <td>1.0071</td>\n",
       "      <td>1.0132</td>\n",
       "      <td>1.0081</td>\n",
       "      <td>1.0031</td>\n",
       "      <td>1.0077</td>\n",
       "      <td>1.0074</td>\n",
       "      <td>1.0069</td>\n",
       "      <td>...</td>\n",
       "      <td>1.0288</td>\n",
       "      <td>1.0288</td>\n",
       "      <td>1.0288</td>\n",
       "      <td>1.0014</td>\n",
       "      <td>1.0047</td>\n",
       "      <td>1.0289</td>\n",
       "      <td>1.0038</td>\n",
       "      <td>1.0038</td>\n",
       "      <td>1.0007</td>\n",
       "      <td>1.0093</td>\n",
       "    </tr>\n",
       "    <tr>\n",
       "      <th>5</th>\n",
       "      <td>1.0</td>\n",
       "      <td>1.0125</td>\n",
       "      <td>1.0125</td>\n",
       "      <td>1.0071</td>\n",
       "      <td>1.0133</td>\n",
       "      <td>1.0082</td>\n",
       "      <td>1.0031</td>\n",
       "      <td>1.0077</td>\n",
       "      <td>1.0074</td>\n",
       "      <td>1.0070</td>\n",
       "      <td>...</td>\n",
       "      <td>1.0290</td>\n",
       "      <td>1.0289</td>\n",
       "      <td>1.0289</td>\n",
       "      <td>1.0015</td>\n",
       "      <td>1.0047</td>\n",
       "      <td>1.0291</td>\n",
       "      <td>1.0040</td>\n",
       "      <td>1.0040</td>\n",
       "      <td>1.0009</td>\n",
       "      <td>1.0095</td>\n",
       "    </tr>\n",
       "  </tbody>\n",
       "</table>\n",
       "<p>5 rows × 278 columns</p>\n",
       "</div>"
      ],
      "text/plain": [
       "NodeID     1       2       3       4       5       6       7       8    \\\n",
       "InstantID                                                                \n",
       "1          1.0  1.0125  1.0125  1.0069  1.0132  1.0081  1.0028  1.0076   \n",
       "2          1.0  1.0125  1.0125  1.0070  1.0132  1.0081  1.0029  1.0077   \n",
       "3          1.0  1.0125  1.0125  1.0070  1.0132  1.0081  1.0030  1.0077   \n",
       "4          1.0  1.0125  1.0125  1.0071  1.0132  1.0081  1.0031  1.0077   \n",
       "5          1.0  1.0125  1.0125  1.0071  1.0133  1.0082  1.0031  1.0077   \n",
       "\n",
       "NodeID        9       10    ...       269     270     271     272     273  \\\n",
       "InstantID                   ...                                             \n",
       "1          1.0073  1.0068   ...    1.0282  1.0282  1.0282  1.0011  1.0044   \n",
       "2          1.0073  1.0069   ...    1.0284  1.0284  1.0284  1.0012  1.0045   \n",
       "3          1.0074  1.0069   ...    1.0286  1.0286  1.0286  1.0013  1.0046   \n",
       "4          1.0074  1.0069   ...    1.0288  1.0288  1.0288  1.0014  1.0047   \n",
       "5          1.0074  1.0070   ...    1.0290  1.0289  1.0289  1.0015  1.0047   \n",
       "\n",
       "NodeID        274     275     276     277     278  \n",
       "InstantID                                          \n",
       "1          1.0284  1.0033  1.0033  1.0004  1.0088  \n",
       "2          1.0286  1.0035  1.0035  1.0005  1.0090  \n",
       "3          1.0288  1.0037  1.0037  1.0006  1.0092  \n",
       "4          1.0289  1.0038  1.0038  1.0007  1.0093  \n",
       "5          1.0291  1.0040  1.0040  1.0009  1.0095  \n",
       "\n",
       "[5 rows x 278 columns]"
      ]
     },
     "execution_count": 9,
     "metadata": {},
     "output_type": "execute_result"
    }
   ],
   "source": [
    "Voltages=RawVoltages.pivot(index='InstantID', columns='NodeID', values='Vmag')\n",
    "Voltages.head()"
   ]
  },
  {
   "cell_type": "markdown",
   "metadata": {},
   "source": [
    "Using this pivoted table, let's have a look on plot of voltage std:"
   ]
  },
  {
   "cell_type": "code",
   "execution_count": 21,
   "metadata": {},
   "outputs": [
    {
     "data": {
      "image/png": "[encoded data removed]",
      "text/plain": [
       "<Figure size 720x360 with 1 Axes>"
      ]
     },
     "metadata": {
      "needs_background": "light"
     },
     "output_type": "display_data"
    }
   ],
   "source": [
    "Vstd=Voltages.std(axis=1)\n",
    "plt.plot(Time,Vstd)\n",
    "plt.xlabel('Time (per day)')\n",
    "plt.ylabel('Voltage Deviation across Nodes (pu)')\n",
    "plt.show()"
   ]
  },
  {
   "cell_type": "markdown",
   "metadata": {},
   "source": [
    "Compared to voltages mean, we can see that voltage deviations have much better correlation with losses. This can be also observed by the following scatter plots:"
   ]
  },
  {
   "cell_type": "code",
   "execution_count": 24,
   "metadata": {},
   "outputs": [
    {
     "data": {
      "text/plain": [
       "Text(0, 0.5, 'Power Loss (kW)')"
      ]
     },
     "execution_count": 24,
     "metadata": {},
     "output_type": "execute_result"
    },
    {
     "data": {
      "image/png": "[encoded data removed]",
      "text/plain": [
       "<Figure size 720x360 with 2 Axes>"
      ]
     },
     "metadata": {
      "needs_background": "light"
     },
     "output_type": "display_data"
    }
   ],
   "source": [
    "plt.subplot(121)\n",
    "plt.scatter(Vmean,Ploss['Ploss'])\n",
    "plt.gca().set_xlim([1,1.03])\n",
    "plt.xlabel('Voltage Mean across Nodes (pu)')\n",
    "plt.ylabel('Power Loss (kW)')\n",
    "plt.subplot(122)\n",
    "plt.scatter(Vstd,Ploss['Ploss'])\n",
    "plt.gca().set_xlim([0.012,0.022])\n",
    "plt.xlabel('Voltage Deviation across Nodes (pu)')\n",
    "plt.ylabel('Power Loss (kW)')"
   ]
  },
  {
   "cell_type": "markdown",
   "metadata": {},
   "source": [
    "Also, we can verify it by looking at correlation of these:"
   ]
  },
  {
   "cell_type": "code",
   "execution_count": 30,
   "metadata": {},
   "outputs": [
    {
     "name": "stdout",
     "output_type": "stream",
     "text": [
      "Correlation Coefficients\n",
      "Ploss and Voltage Mean: -0.13\n",
      "Ploss and Voltage Deviation: 0.73\n"
     ]
    }
   ],
   "source": [
    "print(\"\"\"Correlation Coefficients\n",
    "Ploss and Voltage Mean: %.2f\n",
    "Ploss and Voltage Deviation: %.2f\"\"\" % (pd.Series.corr(Vmean,Ploss['Ploss']),pd.Series.corr(Vstd,Ploss['Ploss'])))"
   ]
  },
  {
   "cell_type": "markdown",
   "metadata": {},
   "source": [
    "This observation is also consistent with what we know from power circuit theories. The more voltages of nodes be deviated from each other, the more currents flow in powerlines causing a total higher power loss."
   ]
  },
  {
   "cell_type": "markdown",
   "metadata": {},
   "source": [
    "# 3.Dimension Reduction: PCA\n",
    "So far, we have only looked at Mean and Std of voltages across system to investigate relationship between voltages and power loss. What other aspects of the data we can use for this investigation? We have already seen that 277 nodes are present in the simulated system. It's too hard to study relationship of voltage at each of these nodes to the power loss. \n",
    "A possible solution is using a dimension reduction technique such as Principal Component Analysis (PCA). Such methods can give us the main components of variation from voltage data, and then we will compare those to power loss:"
   ]
  },
  {
   "cell_type": "code",
   "execution_count": null,
   "metadata": {},
   "outputs": [],
   "source": []
  }
 ],
 "metadata": {
  "kernelspec": {
   "display_name": "Python 3",
   "language": "python",
   "name": "python3"
  },
  "language_info": {
   "codemirror_mode": {
    "name": "ipython",
    "version": 3
   },
   "file_extension": ".py",
   "mimetype": "text/x-python",
   "name": "python",
   "nbconvert_exporter": "python",
   "pygments_lexer": "ipython3",
   "version": "3.7.1"
  }
 },
 "nbformat": 4,
 "nbformat_minor": 2
}
